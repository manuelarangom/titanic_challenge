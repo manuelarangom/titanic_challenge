{
  "nbformat": 4,
  "nbformat_minor": 0,
  "metadata": {
    "colab": {
      "name": "titanic_Kaggle.ipynb",
      "version": "0.3.2",
      "provenance": []
    },
    "kernelspec": {
      "name": "python3",
      "display_name": "Python 3"
    }
  },
  "cells": [
    {
      "cell_type": "markdown",
      "metadata": {
        "id": "yDKe1WzvdloD",
        "colab_type": "text"
      },
      "source": [
        "# Titanic Challenge (Kaggle)"
      ]
    },
    {
      "cell_type": "code",
      "metadata": {
        "id": "uq2TCxdz48YR",
        "colab_type": "code",
        "colab": {}
      },
      "source": [
        "from google.colab import files\n",
        "import matplotlib.pyplot as plt\n",
        "import pandas as pd\n",
        "import numpy as np\n",
        "\n",
        "from sklearn.model_selection import train_test_split\n",
        "from sklearn.linear_model import LogisticRegression\n",
        "from sklearn.svm import SVC\n",
        "from sklearn.neighbors import KNeighborsClassifier"
      ],
      "execution_count": 0,
      "outputs": []
    },
    {
      "cell_type": "code",
      "metadata": {
        "id": "8OI0h49I5ash",
        "colab_type": "code",
        "colab": {}
      },
      "source": [
        "train_upload = files.upload()\n",
        "test_upload = files.upload()"
      ],
      "execution_count": 0,
      "outputs": []
    },
    {
      "cell_type": "code",
      "metadata": {
        "id": "zvA0mIHJ7qpJ",
        "colab_type": "code",
        "colab": {}
      },
      "source": [
        "titanic_train = pd.read_csv('train.csv', sep = ',', names=['passengerId','Survived','Pclass','Name','Sex','Age','SibSp','Parch','Ticket','Fare','Cabin','Embarked'], header=0)\n",
        "titanic_test = pd.read_csv('test.csv', sep = ',', names=['passengerId','Pclass','Name','Sex','Age','SibSp','Parch','Ticket','Fare','Cabin','Embarked'], header=0)"
      ],
      "execution_count": 0,
      "outputs": []
    },
    {
      "cell_type": "code",
      "metadata": {
        "id": "PkMJ_f_K8srh",
        "colab_type": "code",
        "colab": {}
      },
      "source": [
        "titanic_train.head()"
      ],
      "execution_count": 0,
      "outputs": []
    },
    {
      "cell_type": "code",
      "metadata": {
        "id": "0B2eRaz49jQB",
        "colab_type": "code",
        "colab": {}
      },
      "source": [
        "titanic_train.shape"
      ],
      "execution_count": 0,
      "outputs": []
    },
    {
      "cell_type": "code",
      "metadata": {
        "id": "-mG4iryzFOBm",
        "colab_type": "code",
        "colab": {}
      },
      "source": [
        "titanic_train.describe()"
      ],
      "execution_count": 0,
      "outputs": []
    },
    {
      "cell_type": "code",
      "metadata": {
        "id": "keHDiVm7GeEP",
        "colab_type": "code",
        "colab": {}
      },
      "source": [
        "col_names = titanic_train.columns.tolist()"
      ],
      "execution_count": 0,
      "outputs": []
    },
    {
      "cell_type": "code",
      "metadata": {
        "id": "1Fh1ohBJFrw2",
        "colab_type": "code",
        "colab": {}
      },
      "source": [
        "print(titanic_train.isnull().sum())\n",
        "\n",
        "print(\" \")\n",
        "\n",
        "print(titanic_test.isnull().sum())"
      ],
      "execution_count": 0,
      "outputs": []
    },
    {
      "cell_type": "markdown",
      "metadata": {
        "id": "bTRE0qnId45l",
        "colab_type": "text"
      },
      "source": [
        "## Data Pre-processing"
      ]
    },
    {
      "cell_type": "code",
      "metadata": {
        "id": "ZfY9aVt1HI6i",
        "colab_type": "code",
        "colab": {}
      },
      "source": [
        "### Fill NaN Age data with the mean value\n",
        "\n",
        "age_mean_train = titanic_train['Age'].mean()\n",
        "age_mean_test = titanic_test['Age'].mean()\n",
        "\n",
        "titanic_train['Age'] = titanic_train['Age'].replace(np.nan,age_mean_train)\n",
        "titanic_test['Age'] = titanic_test['Age'].replace(np.nan,age_mean_test)\n",
        "\n",
        "### Delete unusefull columns and Cabin because the data absense\n",
        "\n",
        "titanic_train = titanic_train.drop(['passengerId','Name','Ticket','Cabin'], axis = 1)\n",
        "titanic_test = titanic_test.drop(['Name','Ticket','Cabin',], axis = 1)\n",
        "\n",
        "### Convert variables\n",
        "\n",
        "titanic_train['Sex'].replace(['female','male'],[0,1], inplace = True)\n",
        "titanic_test['Sex'].replace(['female','male'],[0,1], inplace = True)\n",
        "\n",
        "titanic_train['Embarked'].replace(['Q','S','C'],[0,1,2], inplace = True)\n",
        "titanic_test['Embarked'].replace(['Q','S','C'],[0,1,2], inplace = True)\n",
        "\n",
        "### Delete rows with missing data\n",
        "\n",
        "titanic_train.dropna(axis = 0, how = 'any', inplace = True)\n",
        "titanic_test.dropna(axis = 0, how = 'any', inplace = True)"
      ],
      "execution_count": 0,
      "outputs": []
    },
    {
      "cell_type": "markdown",
      "metadata": {
        "id": "FsQTWcSHd_Om",
        "colab_type": "text"
      },
      "source": [
        "### Download dataframes with train and test preprocessed data"
      ]
    },
    {
      "cell_type": "code",
      "metadata": {
        "id": "p_6komNoUD4j",
        "colab_type": "code",
        "colab": {}
      },
      "source": [
        "df_titanic_train = pd.DataFrame(titanic_train)\n",
        "df_titanic_test = pd.DataFrame(titanic_test)\n",
        "\n",
        "df_titanic_train.to_csv('train_preprocessed.csv', index=True, header=True, sep=';',decimal='.')\n",
        "df_titanic_test.to_csv('test_preprocessed.csv', index=True, header=True, sep=';',decimal='.')"
      ],
      "execution_count": 0,
      "outputs": []
    },
    {
      "cell_type": "markdown",
      "metadata": {
        "id": "F9FMQ5Y_eRTP",
        "colab_type": "text"
      },
      "source": [
        "## Split data for sklearn algorythms"
      ]
    },
    {
      "cell_type": "code",
      "metadata": {
        "id": "F5tgz5ALXjN6",
        "colab_type": "code",
        "colab": {}
      },
      "source": [
        "### X axis will contain the entry data and y with Exit data\n",
        "\n",
        "X = np.array(titanic_train.drop(['Survived'],1))\n",
        "y = np.array(titanic_train['Survived'])\n",
        "\n",
        "X_train, X_test, y_train, y_test = train_test_split(X,y, test_size = 0.25)"
      ],
      "execution_count": 0,
      "outputs": []
    },
    {
      "cell_type": "markdown",
      "metadata": {
        "id": "E_RjqdWlco0c",
        "colab_type": "text"
      },
      "source": [
        "## Classification Methods"
      ]
    },
    {
      "cell_type": "code",
      "metadata": {
        "id": "haWMXDmtvCDR",
        "colab_type": "code",
        "colab": {}
      },
      "source": [
        "scoring_methods = {}"
      ],
      "execution_count": 0,
      "outputs": []
    },
    {
      "cell_type": "code",
      "metadata": {
        "id": "BrgOvoJHvym5",
        "colab_type": "code",
        "colab": {}
      },
      "source": [
        "print(scoring_methods)"
      ],
      "execution_count": 0,
      "outputs": []
    },
    {
      "cell_type": "markdown",
      "metadata": {
        "id": "D-yMN9Mjc3NU",
        "colab_type": "text"
      },
      "source": [
        "### Logistic Regression"
      ]
    },
    {
      "cell_type": "code",
      "metadata": {
        "id": "M1gARntMbsll",
        "colab_type": "code",
        "colab": {}
      },
      "source": [
        "log_regression = LogisticRegression()\n",
        "log_regression.fit(X_train,y_train)\n",
        "y_prediction = log_regression.predict(X_test)\n",
        "\n",
        "scoring_methods['Logistic Regression'] = log_regression.score(X_train,y_train)"
      ],
      "execution_count": 0,
      "outputs": []
    },
    {
      "cell_type": "markdown",
      "metadata": {
        "id": "LLxtPEVnfvoc",
        "colab_type": "text"
      },
      "source": [
        "### Support Vector Machines"
      ]
    },
    {
      "cell_type": "code",
      "metadata": {
        "id": "GNH3PFvPf5E2",
        "colab_type": "code",
        "colab": {}
      },
      "source": [
        "svc = SVC()\n",
        "parameters = {}\n",
        "\n",
        "svc.fit(X_train,y_train)\n",
        "y_prediction = svc.predict(X_test)\n",
        "\n",
        "scoring_methods['Support Vector Machines'] = svc.score(X_train,y_train)"
      ],
      "execution_count": 0,
      "outputs": []
    },
    {
      "cell_type": "markdown",
      "metadata": {
        "id": "xR8Bu1jUgWEb",
        "colab_type": "text"
      },
      "source": [
        "### K-nearest Neighbors"
      ]
    },
    {
      "cell_type": "code",
      "metadata": {
        "id": "SHm-XPyUm4Ik",
        "colab_type": "code",
        "colab": {}
      },
      "source": [
        "def kscoring(kp):\n",
        "  \n",
        "  knn = KNeighborsClassifier(n_neighbors = kp)\n",
        "  knn.fit(X_train,y_train)\n",
        "  y_predict = (knn.predict(X_test))\n",
        "               \n",
        "  return knn.score(X_train,y_train)"
      ],
      "execution_count": 0,
      "outputs": []
    },
    {
      "cell_type": "code",
      "metadata": {
        "id": "5mIvrxZ8plva",
        "colab_type": "code",
        "colab": {}
      },
      "source": [
        "k_possible = list(filter((lambda x: x%2!=0),range(3,203)))\n",
        "k_score = []\n",
        "               \n",
        "for ksc in k_possible:\n",
        "  \n",
        "  k_score.append(kscoring(ksc))\n",
        "\n",
        "print(\"The highest score obtained by Knn is {kscore}, using a k value of {kvalue}\".format(kscore = max(k_score), kvalue = k_possible[k_score.index(max(k_score))]))\n",
        "\n",
        "scoring_methods['K-nearest neighbors'] = max(k_score)"
      ],
      "execution_count": 0,
      "outputs": []
    },
    {
      "cell_type": "markdown",
      "metadata": {
        "id": "4nIRndfiyHC7",
        "colab_type": "text"
      },
      "source": [
        "## Predictions using Support Vector Machines method"
      ]
    },
    {
      "cell_type": "markdown",
      "metadata": {
        "id": "1Rwb8Gp0yW2i",
        "colab_type": "text"
      },
      "source": [
        "Choosen method to get the survival predictions. Choosen thanks to its highest score test, over the Logistic regression and K-nearest Neighbors"
      ]
    },
    {
      "cell_type": "code",
      "metadata": {
        "id": "kTLxijfcyOHv",
        "colab_type": "code",
        "colab": {}
      },
      "source": [
        "id_survival = titanic_test['passengerId']\n",
        "\n",
        "svc_prediction = svc.predict(titanic_test.drop('passengerId', axis = 1))\n",
        "svc_prediction_dataframe = pd.DataFrame({'passengerId':id_survival , 'Survived': svc_prediction})\n",
        "\n",
        "svc_prediction_dataframe.shape"
      ],
      "execution_count": 0,
      "outputs": []
    },
    {
      "cell_type": "code",
      "metadata": {
        "id": "kNrKtXhl1xvJ",
        "colab_type": "code",
        "colab": {}
      },
      "source": [
        "svc_prediction_dataframe.to_csv('titanic_submissions.csv', index=True, header=True, sep=';',decimal='.')"
      ],
      "execution_count": 0,
      "outputs": []
    }
  ]
}
{
  "nbformat": 4,
  "nbformat_minor": 0,
  "metadata": {
    "colab": {
      "name": "titanic_Kaggle.ipynb",
      "provenance": [],
      "collapsed_sections": []
    },
    "kernelspec": {
      "name": "python3",
      "display_name": "Python 3"
    }
  },
  "cells": [
    {
      "cell_type": "markdown",
      "metadata": {
        "id": "yDKe1WzvdloD",
        "colab_type": "text"
      },
      "source": [
        "# Titanic Challenge (Kaggle)\n",
        "Predict survival on the Titanic and get familiar with ML.\n",
        "\n"
      ]
    },
    {
      "cell_type": "markdown",
      "metadata": {
        "id": "BA6qsm8RmeyN",
        "colab_type": "text"
      },
      "source": [
        "## Importing the required libraries"
      ]
    },
    {
      "cell_type": "code",
      "metadata": {
        "id": "uq2TCxdz48YR",
        "colab_type": "code",
        "colab": {}
      },
      "source": [
        "# Upload files from the computer to Colab\n",
        "from google.colab import files\n",
        "\n",
        "import pandas as pd\n",
        "import numpy as np\n",
        "\n",
        "# Import classification modules from ScikitLearn library\n",
        "from sklearn.model_selection import train_test_split, GridSearchCV\n",
        "from sklearn.linear_model import LogisticRegression\n",
        "from sklearn.svm import SVC\n",
        "from sklearn.neighbors import KNeighborsClassifier"
      ],
      "execution_count": 0,
      "outputs": []
    },
    {
      "cell_type": "markdown",
      "metadata": {
        "id": "_L2l5ho8nPCu",
        "colab_type": "text"
      },
      "source": [
        "## Uploading and reading the given datasets *( train.csv and test.csv )*"
      ]
    },
    {
      "cell_type": "code",
      "metadata": {
        "id": "8OI0h49I5ash",
        "colab_type": "code",
        "colab": {}
      },
      "source": [
        "train_upload = files.upload()\n",
        "test_upload = files.upload()"
      ],
      "execution_count": 0,
      "outputs": []
    },
    {
      "cell_type": "code",
      "metadata": {
        "id": "zvA0mIHJ7qpJ",
        "colab_type": "code",
        "colab": {}
      },
      "source": [
        "titanic_train = pd.read_csv('train.csv', sep = ',', names=['passengerId','Survived','Pclass','Name','Sex','Age','SibSp','Parch','Ticket','Fare','Cabin','Embarked'], header=0)\n",
        "titanic_test = pd.read_csv('test.csv', sep = ',', names=['passengerId','Pclass','Name','Sex','Age','SibSp','Parch','Ticket','Fare','Cabin','Embarked'], header=0)"
      ],
      "execution_count": 0,
      "outputs": []
    },
    {
      "cell_type": "markdown",
      "metadata": {
        "id": "auklRgLPoKNH",
        "colab_type": "text"
      },
      "source": [
        "## Data description"
      ]
    },
    {
      "cell_type": "code",
      "metadata": {
        "id": "PkMJ_f_K8srh",
        "colab_type": "code",
        "colab": {}
      },
      "source": [
        "# Dataset dimentions\n",
        "titanic_train.shape"
      ],
      "execution_count": 0,
      "outputs": []
    },
    {
      "cell_type": "code",
      "metadata": {
        "id": "Ai2JWKfvoCvM",
        "colab_type": "code",
        "colab": {}
      },
      "source": [
        "# First n samples on the dataset\n",
        "titanic_train.head()"
      ],
      "execution_count": 0,
      "outputs": []
    },
    {
      "cell_type": "code",
      "metadata": {
        "id": "0WaRDyDToC9n",
        "colab_type": "code",
        "colab": {}
      },
      "source": [
        "# Descriptive statistics\n",
        "titanic_train.describe()"
      ],
      "execution_count": 0,
      "outputs": []
    },
    {
      "cell_type": "code",
      "metadata": {
        "id": "1Fh1ohBJFrw2",
        "colab_type": "code",
        "colab": {}
      },
      "source": [
        "# Visualizing null data on dataset\n",
        "print(titanic_train.isnull().sum())\n",
        "print(\" \")\n",
        "print(titanic_test.isnull().sum())"
      ],
      "execution_count": 0,
      "outputs": []
    },
    {
      "cell_type": "markdown",
      "metadata": {
        "id": "bTRE0qnId45l",
        "colab_type": "text"
      },
      "source": [
        "## Data Pre-processing"
      ]
    },
    {
      "cell_type": "code",
      "metadata": {
        "id": "ZfY9aVt1HI6i",
        "colab_type": "code",
        "colab": {}
      },
      "source": [
        "### Fill NaN Age data with the mean value\n",
        "\n",
        "age_mean_train = titanic_train['Age'].mean()\n",
        "age_mean_test = titanic_test['Age'].mean()\n",
        "\n",
        "titanic_train['Age'] = titanic_train['Age'].replace(np.nan,age_mean_train)\n",
        "titanic_test['Age'] = titanic_test['Age'].replace(np.nan,age_mean_test)\n",
        "\n",
        "### Delete unusefull columns and Cabin because the data absense\n",
        "\n",
        "titanic_train = titanic_train.drop(['passengerId','Name','Ticket','Cabin','Fare'], axis = 1)\n",
        "titanic_test = titanic_test.drop(['Name','Ticket','Cabin','Fare'], axis = 1)\n",
        "\n",
        "### Convert variables\n",
        "\n",
        "titanic_train['Sex'].replace(['female','male'],[0,1], inplace = True)\n",
        "titanic_test['Sex'].replace(['female','male'],[0,1], inplace = True)\n",
        "\n",
        "titanic_train['Embarked'].replace(['Q','S','C'],[0,1,2], inplace = True)\n",
        "titanic_test['Embarked'].replace(['Q','S','C'],[0,1,2], inplace = True)\n",
        "\n",
        "### Delete rows with missing data\n",
        "\n",
        "titanic_train.dropna(axis = 0, how = 'any', inplace = True)\n",
        "titanic_test.dropna(axis = 0, how = 'any', inplace = True)"
      ],
      "execution_count": 0,
      "outputs": []
    },
    {
      "cell_type": "markdown",
      "metadata": {
        "id": "FsQTWcSHd_Om",
        "colab_type": "text"
      },
      "source": [
        "### Download dataframes with train and test preprocessed data"
      ]
    },
    {
      "cell_type": "code",
      "metadata": {
        "id": "p_6komNoUD4j",
        "colab_type": "code",
        "colab": {}
      },
      "source": [
        "df_titanic_train = pd.DataFrame(titanic_train)\n",
        "df_titanic_test = pd.DataFrame(titanic_test)\n",
        "\n",
        "df_titanic_train.to_csv('train_preprocessed.csv', index=True, header=True, sep=';',decimal='.')\n",
        "df_titanic_test.to_csv('test_preprocessed.csv', index=True, header=True, sep=';',decimal='.')"
      ],
      "execution_count": 0,
      "outputs": []
    },
    {
      "cell_type": "markdown",
      "metadata": {
        "id": "F9FMQ5Y_eRTP",
        "colab_type": "text"
      },
      "source": [
        "## Split data for sklearn algorythms"
      ]
    },
    {
      "cell_type": "code",
      "metadata": {
        "id": "F5tgz5ALXjN6",
        "colab_type": "code",
        "colab": {}
      },
      "source": [
        "## X axis will contain the entry data and y with Exit data\n",
        "\n",
        "X = np.array(titanic_train.drop(['Survived'],1))\n",
        "y = np.array(titanic_train['Survived'])\n",
        "\n",
        "# Create four variables that will receive their values ( in the respective order that the function returns ) from the function train_test_split\n",
        "# 25% of the train data becomes the test sample, and 75% will be used to train the model.\n",
        "\n",
        "X_train, X_test, y_train, y_test = train_test_split(X,y, test_size = 0.25, random_state = 12)"
      ],
      "execution_count": 0,
      "outputs": []
    },
    {
      "cell_type": "markdown",
      "metadata": {
        "id": "E_RjqdWlco0c",
        "colab_type": "text"
      },
      "source": [
        "## Classification Methods"
      ]
    },
    {
      "cell_type": "code",
      "metadata": {
        "id": "haWMXDmtvCDR",
        "colab_type": "code",
        "colab": {}
      },
      "source": [
        "# Create a dictionary to visualize the score of the used clasification methods\n",
        "scoring_methods = {}"
      ],
      "execution_count": 0,
      "outputs": []
    },
    {
      "cell_type": "markdown",
      "metadata": {
        "id": "D-yMN9Mjc3NU",
        "colab_type": "text"
      },
      "source": [
        "### Logistic Regression"
      ]
    },
    {
      "cell_type": "code",
      "metadata": {
        "id": "M1gARntMbsll",
        "colab_type": "code",
        "colab": {}
      },
      "source": [
        "log_regression = LogisticRegression()\n",
        "log_regression.fit(X_train,y_train)\n",
        "y_prediction = log_regression.predict(X_test)\n",
        "\n",
        "scoring_methods['Logistic Regression'] = log_regression.score(X_test,y_test)"
      ],
      "execution_count": 0,
      "outputs": []
    },
    {
      "cell_type": "markdown",
      "metadata": {
        "id": "LLxtPEVnfvoc",
        "colab_type": "text"
      },
      "source": [
        "### Support Vector Machines"
      ]
    },
    {
      "cell_type": "code",
      "metadata": {
        "id": "GNH3PFvPf5E2",
        "colab_type": "code",
        "colab": {}
      },
      "source": [
        "svc = SVC()\n",
        "\n",
        "parameters = {\n",
        "    \n",
        "    'C': [0.001,0.01,0.1,1,10,100],\n",
        "    'kernel': ('linear','rbf')\n",
        "    \n",
        "}\n",
        "\n",
        "clf = GridSearchCV(svc, parameters, cv=5)\n",
        "\n",
        "clf.fit(X_train,y_train)\n",
        "\n",
        "#y_prediction = clf.predict(X_test)\n",
        "\n",
        "scoring_methods['Support Vector Machines'] = clf.score(X_test,y_test)"
      ],
      "execution_count": 0,
      "outputs": []
    },
    {
      "cell_type": "code",
      "metadata": {
        "id": "S-uGFRpTt-AU",
        "colab_type": "code",
        "colab": {}
      },
      "source": [
        "clf.best_estimator_"
      ],
      "execution_count": 0,
      "outputs": []
    },
    {
      "cell_type": "code",
      "metadata": {
        "id": "zj9WuBkUiRxu",
        "colab_type": "code",
        "colab": {}
      },
      "source": [
        "svc.get_params"
      ],
      "execution_count": 0,
      "outputs": []
    },
    {
      "cell_type": "code",
      "metadata": {
        "id": "NEO6FW4Qt61-",
        "colab_type": "code",
        "colab": {}
      },
      "source": [
        "print(clf.score(X_train,y_train))"
      ],
      "execution_count": 0,
      "outputs": []
    },
    {
      "cell_type": "code",
      "metadata": {
        "id": "ivSkyXqIuNHE",
        "colab_type": "code",
        "colab": {}
      },
      "source": [
        "scoring_methods"
      ],
      "execution_count": 0,
      "outputs": []
    },
    {
      "cell_type": "markdown",
      "metadata": {
        "id": "xR8Bu1jUgWEb",
        "colab_type": "text"
      },
      "source": [
        "### K-nearest Neighbors"
      ]
    },
    {
      "cell_type": "code",
      "metadata": {
        "id": "SHm-XPyUm4Ik",
        "colab_type": "code",
        "colab": {}
      },
      "source": [
        "# Creating a function to iterate multiple k values and determinate what is the one that results in the highest score\n",
        "def kscoring(kp):\n",
        "  \n",
        "  knn = KNeighborsClassifier(n_neighbors = kp)\n",
        "  knn.fit(X_train,y_train)\n",
        "  y_predict = (knn.predict(X_test))\n",
        "               \n",
        "  return knn.score(X_test,y_test)"
      ],
      "execution_count": 0,
      "outputs": []
    },
    {
      "cell_type": "code",
      "metadata": {
        "id": "5mIvrxZ8plva",
        "colab_type": "code",
        "colab": {}
      },
      "source": [
        "# Create a list with values to iterate the k possible values\n",
        "k_possible = list(filter((lambda x: x%2!=0),range(3,103)))\n",
        "k_score = []\n",
        "\n",
        "\n",
        "# Iterating the k possible values list               \n",
        "for ksc in k_possible:\n",
        "  \n",
        "  k_score.append(kscoring(ksc))\n",
        "\n",
        "print(\"The highest score obtained by Knn is {kscore}, using a k value of {kvalue}\".format(kscore = max(k_score), kvalue = k_possible[k_score.index(max(k_score))]))\n",
        "\n",
        "scoring_methods['K-nearest neighbors'] = max(k_score)"
      ],
      "execution_count": 0,
      "outputs": []
    },
    {
      "cell_type": "code",
      "metadata": {
        "id": "aA8CnPoHw0ty",
        "colab_type": "code",
        "colab": {}
      },
      "source": [
        "# Showing the scoring of the used classification methods\n",
        "print(scoring_methods)"
      ],
      "execution_count": 0,
      "outputs": []
    },
    {
      "cell_type": "markdown",
      "metadata": {
        "id": "4nIRndfiyHC7",
        "colab_type": "text"
      },
      "source": [
        "## Predictions using Support Vector Machines method"
      ]
    },
    {
      "cell_type": "markdown",
      "metadata": {
        "id": "1Rwb8Gp0yW2i",
        "colab_type": "text"
      },
      "source": [
        "Choosen method to get the survival predictions. This is the method with the highest test scoring."
      ]
    },
    {
      "cell_type": "code",
      "metadata": {
        "id": "kTLxijfcyOHv",
        "colab_type": "code",
        "colab": {}
      },
      "source": [
        "id_survival = titanic_test['passengerId']\n",
        "\n",
        "log_regression_prediction = log_regression.predict(titanic_test.drop('passengerId', axis = 1))\n",
        "log_regression_prediction_dataframe = pd.DataFrame({'passengerId':id_survival , 'Survived': log_regression_prediction})\n",
        "\n",
        "log_regression_prediction_dataframe.shape"
      ],
      "execution_count": 0,
      "outputs": []
    },
    {
      "cell_type": "code",
      "metadata": {
        "id": "kNrKtXhl1xvJ",
        "colab_type": "code",
        "colab": {}
      },
      "source": [
        "# Create a Dataframe with the obtained predictions\n",
        "log_regression_prediction_dataframe.to_csv('titanic_submissions.csv', index=True, header=True, sep=';',decimal='.')"
      ],
      "execution_count": 0,
      "outputs": []
    }
  ]
}